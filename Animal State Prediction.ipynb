{
 "cells": [
  {
   "cell_type": "markdown",
   "metadata": {},
   "source": [
    "Importing required libraries"
   ]
  },
  {
   "cell_type": "code",
   "execution_count": 19,
   "metadata": {},
   "outputs": [],
   "source": [
    "import pandas as pd\n",
    "from sklearn import preprocessing\n",
    "import matplotlib.pyplot as plt\n",
    "import numpy as np\n",
    "from sklearn.model_selection import train_test_split\n",
    "from sklearn.ensemble import RandomForestClassifier\n",
    "from sklearn.metrics import accuracy_score"
   ]
  },
  {
   "cell_type": "markdown",
   "metadata": {},
   "source": [
    "Reading the  training dataset"
   ]
  },
  {
   "cell_type": "code",
   "execution_count": 20,
   "metadata": {},
   "outputs": [],
   "source": [
    "data=pd.read_csv('train.csv')"
   ]
  },
  {
   "cell_type": "markdown",
   "metadata": {},
   "source": [
    "Checking for null values"
   ]
  },
  {
   "cell_type": "code",
   "execution_count": 21,
   "metadata": {},
   "outputs": [
    {
     "data": {
      "text/plain": [
       "animal_id_outcome                0\n",
       "dob_year                         0\n",
       "dob_month                        0\n",
       "age_upon_intake                  0\n",
       "animal_type                      0\n",
       "breed                            0\n",
       "color                            0\n",
       "intake_condition                 0\n",
       "intake_type                      0\n",
       "sex_upon_intake                  1\n",
       "count                            0\n",
       "age_upon_intake_(days)           0\n",
       "age_upon_intake_(years)          0\n",
       "age_upon_intake_age_group        0\n",
       "intake_datetime                  0\n",
       "intake_month                     0\n",
       "intake_year                      0\n",
       "intake_monthyear                 0\n",
       "intake_weekday                   0\n",
       "intake_hour                      0\n",
       "intake_number                    0\n",
       "time_in_shelter                  0\n",
       "time_in_shelter_days             0\n",
       "age_upon_outcome                 0\n",
       "date_of_birth                    0\n",
       "sex_upon_outcome                 1\n",
       "age_upon_outcome_(days)          0\n",
       "age_upon_outcome_(years)         0\n",
       "age_upon_outcome_age_group       0\n",
       "outcome_datetime              9619\n",
       "outcome_month                    0\n",
       "outcome_year                     0\n",
       "outcome_monthyear                0\n",
       "outcome_weekday                  0\n",
       "outcome_hour                     0\n",
       "outcome_number                   0\n",
       "outcome_type                     0\n",
       "dtype: int64"
      ]
     },
     "execution_count": 21,
     "metadata": {},
     "output_type": "execute_result"
    }
   ],
   "source": [
    "data.isnull().sum()"
   ]
  },
  {
   "cell_type": "markdown",
   "metadata": {},
   "source": [
    "Checking for Maximum occuring element to fill null values"
   ]
  },
  {
   "cell_type": "code",
   "execution_count": 22,
   "metadata": {},
   "outputs": [
    {
     "name": "stdout",
     "output_type": "stream",
     "text": [
      "17559 Neutered Male\n",
      "15499 Spayed Female\n",
      "5378 Intact Female\n",
      "5564 Intact Male\n",
      "3802 Unknown\n",
      "1 nan\n"
     ]
    }
   ],
   "source": [
    "uni=list(data['sex_upon_outcome'].unique())\n",
    "vals=list(data['sex_upon_outcome'].values)\n",
    "for j in uni:\n",
    "    print(vals.count(j),j)"
   ]
  },
  {
   "cell_type": "code",
   "execution_count": 23,
   "metadata": {},
   "outputs": [
    {
     "name": "stdout",
     "output_type": "stream",
     "text": [
      "8459 Neutered Male\n",
      "7397 Spayed Female\n",
      "13480 Intact Female\n",
      "14664 Intact Male\n",
      "3802 Unknown\n",
      "1 nan\n"
     ]
    }
   ],
   "source": [
    "uni1=list(data['sex_upon_intake'].unique())\n",
    "vals1=list(data['sex_upon_intake'].values)\n",
    "for k in uni1:\n",
    "    print(vals1.count(k),k)"
   ]
  },
  {
   "cell_type": "code",
   "execution_count": 24,
   "metadata": {},
   "outputs": [],
   "source": [
    "data['sex_upon_outcome']=data['sex_upon_outcome'].fillna('Neutered Male')\n",
    "data['sex_upon_intake']=data['sex_upon_intake'].fillna('Intact Male')"
   ]
  },
  {
   "cell_type": "markdown",
   "metadata": {},
   "source": [
    "Checking for correlated features"
   ]
  },
  {
   "cell_type": "code",
   "execution_count": 25,
   "metadata": {},
   "outputs": [
    {
     "data": {
      "text/plain": [
       "[<matplotlib.lines.Line2D at 0x1e6ce31ba58>]"
      ]
     },
     "execution_count": 25,
     "metadata": {},
     "output_type": "execute_result"
    },
    {
     "data": {
      "image/png": "[encoded data removed]",
      "text/plain": [
       "<matplotlib.figure.Figure at 0x1e6cec026d8>"
      ]
     },
     "metadata": {},
     "output_type": "display_data"
    }
   ],
   "source": [
    "plt.plot(data['age_upon_outcome_(days)'],data['age_upon_outcome_(years)'],'bo')"
   ]
  },
  {
   "cell_type": "markdown",
   "metadata": {},
   "source": [
    "Removing irrelavant features"
   ]
  },
  {
   "cell_type": "code",
   "execution_count": 26,
   "metadata": {},
   "outputs": [],
   "source": [
    "data1=data.drop(['outcome_datetime'],axis=1)"
   ]
  },
  {
   "cell_type": "code",
   "execution_count": 27,
   "metadata": {},
   "outputs": [],
   "source": [
    "data2=data1.drop(['age_upon_outcome_(days)','age_upon_intake','age_upon_intake_(days)','age_upon_outcome','intake_monthyear'],axis=1)"
   ]
  },
  {
   "cell_type": "code",
   "execution_count": 28,
   "metadata": {},
   "outputs": [],
   "source": [
    "ide=data2['animal_id_outcome']\n",
    "traindata=data2.drop(['animal_id_outcome','intake_datetime','outcome_monthyear','time_in_shelter','date_of_birth','count'],axis=1)"
   ]
  },
  {
   "cell_type": "code",
   "execution_count": 29,
   "metadata": {},
   "outputs": [
    {
     "data": {
      "text/plain": [
       "dob_year                      0\n",
       "dob_month                     0\n",
       "animal_type                   0\n",
       "breed                         0\n",
       "color                         0\n",
       "intake_condition              0\n",
       "intake_type                   0\n",
       "sex_upon_intake               0\n",
       "age_upon_intake_(years)       0\n",
       "age_upon_intake_age_group     0\n",
       "intake_month                  0\n",
       "intake_year                   0\n",
       "intake_weekday                0\n",
       "intake_hour                   0\n",
       "intake_number                 0\n",
       "time_in_shelter_days          0\n",
       "sex_upon_outcome              0\n",
       "age_upon_outcome_(years)      0\n",
       "age_upon_outcome_age_group    0\n",
       "outcome_month                 0\n",
       "outcome_year                  0\n",
       "outcome_weekday               0\n",
       "outcome_hour                  0\n",
       "outcome_number                0\n",
       "outcome_type                  0\n",
       "dtype: int64"
      ]
     },
     "execution_count": 29,
     "metadata": {},
     "output_type": "execute_result"
    }
   ],
   "source": [
    "traindata.isnull().sum()"
   ]
  },
  {
   "cell_type": "markdown",
   "metadata": {},
   "source": [
    "Declaring the target variable"
   ]
  },
  {
   "cell_type": "code",
   "execution_count": 30,
   "metadata": {},
   "outputs": [],
   "source": [
    "Y=traindata['outcome_type']"
   ]
  },
  {
   "cell_type": "code",
   "execution_count": 31,
   "metadata": {},
   "outputs": [],
   "source": [
    "X=traindata.drop(['outcome_type'],axis=1)\n",
    "features=list(set(X.columns) - set(X.describe().columns))"
   ]
  },
  {
   "cell_type": "markdown",
   "metadata": {},
   "source": [
    "Encoding the features to feed into machine learning models"
   ]
  },
  {
   "cell_type": "code",
   "execution_count": 32,
   "metadata": {},
   "outputs": [],
   "source": [
    "for m in features:\n",
    "    le=preprocessing.LabelEncoder()\n",
    "    le.fit(X[m])\n",
    "    le.transform(X[m])\n",
    "    X[m]=le.fit_transform(X[m])"
   ]
  },
  {
   "cell_type": "markdown",
   "metadata": {},
   "source": [
    "Dividing dataset into training and testing  parts "
   ]
  },
  {
   "cell_type": "code",
   "execution_count": 33,
   "metadata": {},
   "outputs": [],
   "source": [
    "x_train, x_test, y_train, y_test = train_test_split(X,Y, test_size=0.25)"
   ]
  },
  {
   "cell_type": "markdown",
   "metadata": {},
   "source": [
    "Tuning of parameters for RandomForestClassifier using cross validation to improve accuracy"
   ]
  },
  {
   "cell_type": "code",
   "execution_count": 34,
   "metadata": {},
   "outputs": [
    {
     "name": "stdout",
     "output_type": "stream",
     "text": [
      "0.4544389590829219\n",
      "0.47092293531922014\n",
      "0.544222240816668\n",
      "0.5743452430758932\n",
      "0.6024600451845034\n",
      "0.6103254957744122\n",
      "0.6172705212952891\n",
      "0.6181909463643209\n",
      "0.6181072713580453\n"
     ]
    }
   ],
   "source": [
    "n_estimators = [1, 2, 4, 8, 16, 32, 64, 100, 200]\n",
    "train_results = []\n",
    "test_results = []\n",
    "for estimator in n_estimators:\n",
    "    rf = RandomForestClassifier(n_estimators=estimator, n_jobs=-1)\n",
    "    rf.fit(x_train, y_train)\n",
    "    pred1 = rf.predict(x_test)\n",
    "    print(accuracy_score(y_test,pred1))"
   ]
  },
  {
   "cell_type": "code",
   "execution_count": 35,
   "metadata": {},
   "outputs": [
    {
     "name": "stdout",
     "output_type": "stream",
     "text": [
      "0.4625554346916576\n",
      "0.5127604384570329\n",
      "0.5360220902016568\n",
      "0.5320893649067023\n",
      "0.5527570914567819\n",
      "0.5687390176554263\n",
      "0.5837168437787633\n",
      "0.5921680194126014\n",
      "0.6015396201154715\n",
      "0.607229520542214\n",
      "0.6056396954229771\n",
      "0.6082336206175215\n",
      "0.6088193456614509\n",
      "0.612835745962681\n",
      "0.6115806208685466\n",
      "0.6103254957744122\n",
      "0.6077315705798678\n",
      "0.6067274705045603\n",
      "0.6024600451845034\n",
      "0.5950966446322483\n",
      "0.5941762195632164\n",
      "0.590494519287089\n",
      "0.5913312693498453\n",
      "0.5873985440548908\n",
      "0.5826290686971801\n",
      "0.5843025688226927\n",
      "0.5917496443812233\n",
      "0.5833821437536608\n",
      "0.5838841937913145\n",
      "0.5845535938415195\n",
      "0.585557693916827\n",
      "0.5814576186093214\n"
     ]
    }
   ],
   "source": [
    "max_depths = np.linspace(1, 32, 32, endpoint=True)\n",
    "train_results = []\n",
    "test_results = []\n",
    "for max_depth in max_depths:\n",
    "    rf = RandomForestClassifier(max_depth=max_depth, n_jobs=-1)\n",
    "    rf.fit(x_train, y_train)\n",
    "    pred2 = rf.predict(x_test)\n",
    "    print(accuracy_score(y_test,pred2))"
   ]
  },
  {
   "cell_type": "code",
   "execution_count": 36,
   "metadata": {},
   "outputs": [
    {
     "name": "stdout",
     "output_type": "stream",
     "text": [
      "0.5354363651577274\n",
      "0.5269851895238892\n",
      "0.4962764622207347\n",
      "0.48180068613505145\n",
      "0.5132624884946866\n",
      "0.4846456363484227\n",
      "0.2710233453267509\n",
      "0.2710233453267509\n",
      "0.2710233453267509\n",
      "0.2710233453267509\n"
     ]
    }
   ],
   "source": [
    "min_samples_splits = np.linspace(0.1, 1.0, 10, endpoint=True)\n",
    "train_results = []\n",
    "test_results = []\n",
    "for min_samples_split in min_samples_splits:\n",
    "    rf = RandomForestClassifier(min_samples_split=min_samples_split)\n",
    "    rf.fit(x_train, y_train)\n",
    "    pred3 = rf.predict(x_test)\n",
    "    print(accuracy_score(y_test,pred3))    "
   ]
  },
  {
   "cell_type": "code",
   "execution_count": 38,
   "metadata": {},
   "outputs": [
    {
     "name": "stdout",
     "output_type": "stream",
     "text": [
      "0.5463977909798343\n",
      "0.5712492678436951\n",
      "0.5812902685967701\n",
      "0.5869801690235127\n",
      "0.5847209438540708\n",
      "0.5932557944941846\n",
      "0.5882352941176471\n",
      "0.5868964940172371\n",
      "0.5861434189607564\n",
      "0.5875658940674421\n",
      "0.5913312693498453\n",
      "0.5889883691741277\n",
      "0.5838841937913145\n",
      "0.5845535938415195\n",
      "0.5873148690486152\n",
      "0.589155719186679\n",
      "0.5884026441301983\n",
      "0.5882352941176471\n",
      "0.5838005187850389\n",
      "0.5863944439795833\n",
      "0.5869801690235127\n",
      "0.5811229185842189\n",
      "0.5858087189356539\n"
     ]
    }
   ],
   "source": [
    "max_features = list(range(1,X.shape[1]))\n",
    "train_results = []\n",
    "test_results = []\n",
    "for max_feature in max_features:\n",
    "    rf = RandomForestClassifier(max_features=max_feature)\n",
    "    rf.fit(x_train, y_train)\n",
    "    pred4 = rf.predict(x_test)\n",
    "    print(accuracy_score(y_test,pred4))"
   ]
  },
  {
   "cell_type": "markdown",
   "metadata": {},
   "source": [
    "Training the model with suitable parameters"
   ]
  },
  {
   "cell_type": "code",
   "execution_count": 39,
   "metadata": {},
   "outputs": [
    {
     "data": {
      "text/plain": [
       "RandomForestClassifier(bootstrap=True, class_weight=None, criterion='gini',\n",
       "            max_depth=14, max_features=11, max_leaf_nodes=None,\n",
       "            min_impurity_decrease=0.0, min_impurity_split=None,\n",
       "            min_samples_leaf=1, min_samples_split=2,\n",
       "            min_weight_fraction_leaf=0.0, n_estimators=800, n_jobs=1,\n",
       "            oob_score=False, random_state=None, verbose=0,\n",
       "            warm_start=False)"
      ]
     },
     "execution_count": 39,
     "metadata": {},
     "output_type": "execute_result"
    }
   ],
   "source": [
    "Rf=RandomForestClassifier(n_estimators=800,max_depth=14,max_features=11)\n",
    "Rf.fit(X,Y)"
   ]
  },
  {
   "cell_type": "markdown",
   "metadata": {},
   "source": [
    "Reading the test dataset"
   ]
  },
  {
   "cell_type": "code",
   "execution_count": 40,
   "metadata": {},
   "outputs": [],
   "source": [
    "test=pd.read_csv('test.csv')"
   ]
  },
  {
   "cell_type": "markdown",
   "metadata": {},
   "source": [
    "Separating the ID column"
   ]
  },
  {
   "cell_type": "code",
   "execution_count": 41,
   "metadata": {},
   "outputs": [],
   "source": [
    "ide1=test['animal_id_outcome']\n"
   ]
  },
  {
   "cell_type": "markdown",
   "metadata": {},
   "source": [
    "Removing the irrelevant features"
   ]
  },
  {
   "cell_type": "code",
   "execution_count": 42,
   "metadata": {},
   "outputs": [],
   "source": [
    "X_test=test.drop(['outcome_datetime','age_upon_outcome_(days)','age_upon_intake','age_upon_intake_(days)','age_upon_outcome','intake_monthyear','intake_datetime','outcome_monthyear','time_in_shelter','date_of_birth','count','animal_id_outcome'],axis=1)"
   ]
  },
  {
   "cell_type": "markdown",
   "metadata": {},
   "source": [
    "Encoding the features"
   ]
  },
  {
   "cell_type": "code",
   "execution_count": 43,
   "metadata": {},
   "outputs": [],
   "source": [
    "for h in features:\n",
    "    le=preprocessing.LabelEncoder()\n",
    "    le.fit(X_test[h])\n",
    "    le.transform(X_test[h])\n",
    "    X_test[h]=le.fit_transform(X_test[h])"
   ]
  },
  {
   "cell_type": "markdown",
   "metadata": {},
   "source": [
    "Predicting the animal states with our trained model"
   ]
  },
  {
   "cell_type": "code",
   "execution_count": 47,
   "metadata": {},
   "outputs": [],
   "source": [
    "pred_=Rf.predict(X_test)"
   ]
  },
  {
   "cell_type": "markdown",
   "metadata": {},
   "source": [
    "Output the predicted states in CSV format "
   ]
  },
  {
   "cell_type": "code",
   "execution_count": 48,
   "metadata": {},
   "outputs": [],
   "source": [
    "df3 = pd.DataFrame({'outcome_type': pred_})\n",
    "result = pd.concat([ide1, df3], axis=1, join='inner')"
   ]
  },
  {
   "cell_type": "code",
   "execution_count": 49,
   "metadata": {},
   "outputs": [],
   "source": [
    "result.to_csv('my_submission.csv')"
   ]
  }
 ],
 "metadata": {
  "kernelspec": {
   "display_name": "Python 3",
   "language": "python",
   "name": "python3"
  },
  "language_info": {
   "codemirror_mode": {
    "name": "ipython",
    "version": 3
   },
   "file_extension": ".py",
   "mimetype": "text/x-python",
   "name": "python",
   "nbconvert_exporter": "python",
   "pygments_lexer": "ipython3",
   "version": "3.6.4"
  }
 },
 "nbformat": 4,
 "nbformat_minor": 2
}
